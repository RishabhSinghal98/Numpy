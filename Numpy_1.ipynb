{
 "cells": [
  {
   "cell_type": "code",
   "execution_count": 2,
   "id": "f3443e83-65f9-47b7-9e19-76e583e42e22",
   "metadata": {},
   "outputs": [],
   "source": [
    "import numpy as np\n",
    "import pandas as pd"
   ]
  },
  {
   "cell_type": "code",
   "execution_count": 3,
   "id": "f0f445ad-1db6-4150-8496-ce2139ca0406",
   "metadata": {},
   "outputs": [],
   "source": [
    "l=[1,2,3,4,5]"
   ]
  },
  {
   "cell_type": "markdown",
   "id": "8543b1d7-2faa-4f2a-b963-23203fe3423a",
   "metadata": {},
   "source": [
    "#### Create a array from list"
   ]
  },
  {
   "cell_type": "code",
   "execution_count": 4,
   "id": "ebcc9c87-60ca-4939-bc79-fbe52df614df",
   "metadata": {},
   "outputs": [],
   "source": [
    "arr=np.array(l) #first method"
   ]
  },
  {
   "cell_type": "code",
   "execution_count": 5,
   "id": "e55315b4-302e-42a5-a266-134149fc998b",
   "metadata": {},
   "outputs": [
    {
     "data": {
      "text/plain": [
       "numpy.ndarray"
      ]
     },
     "execution_count": 5,
     "metadata": {},
     "output_type": "execute_result"
    }
   ],
   "source": [
    "type(arr)"
   ]
  },
  {
   "cell_type": "code",
   "execution_count": 6,
   "id": "5cc0ec46-bffa-4d43-8a27-b981eb10bdb0",
   "metadata": {},
   "outputs": [
    {
     "data": {
      "text/plain": [
       "array([1, 2, 3, 4, 5])"
      ]
     },
     "execution_count": 6,
     "metadata": {},
     "output_type": "execute_result"
    }
   ],
   "source": [
    "np.asarray(l) #second method"
   ]
  },
  {
   "cell_type": "code",
   "execution_count": 7,
   "id": "69a586b9-7b7e-49e3-929d-23845f3cf400",
   "metadata": {},
   "outputs": [],
   "source": [
    "l2=[[1,2,3],[2,4,6]]"
   ]
  },
  {
   "cell_type": "code",
   "execution_count": 8,
   "id": "41feed0b-16f2-450a-9bf9-f03457288cba",
   "metadata": {},
   "outputs": [],
   "source": [
    "arr2=np.asarray(l2)  #Creating 2d array"
   ]
  },
  {
   "cell_type": "code",
   "execution_count": 9,
   "id": "22f09ac5-1b1c-49b2-8155-151406e91345",
   "metadata": {},
   "outputs": [],
   "source": [
    "arr3=np.asanyarray(l)"
   ]
  },
  {
   "cell_type": "code",
   "execution_count": 10,
   "id": "941b6ad3-2fa1-4825-a2e9-45179b9fe1c0",
   "metadata": {},
   "outputs": [
    {
     "data": {
      "text/plain": [
       "array([1, 2, 3, 4, 5])"
      ]
     },
     "execution_count": 10,
     "metadata": {},
     "output_type": "execute_result"
    }
   ],
   "source": [
    "arr3"
   ]
  },
  {
   "cell_type": "code",
   "execution_count": 11,
   "id": "71c0ce3f-851f-4910-9202-f0671e43d6c9",
   "metadata": {},
   "outputs": [
    {
     "data": {
      "text/plain": [
       "1"
      ]
     },
     "execution_count": 11,
     "metadata": {},
     "output_type": "execute_result"
    }
   ],
   "source": [
    "arr.ndim\n"
   ]
  },
  {
   "cell_type": "code",
   "execution_count": 12,
   "id": "a3ced8bd-458f-43fb-938b-2f794e639b04",
   "metadata": {},
   "outputs": [
    {
     "data": {
      "text/plain": [
       "2"
      ]
     },
     "execution_count": 12,
     "metadata": {},
     "output_type": "execute_result"
    }
   ],
   "source": [
    "arr2.ndim   #returns dimension of array"
   ]
  },
  {
   "cell_type": "markdown",
   "id": "ffa9aae1-7cdf-46e8-bcc9-9292c0c1133d",
   "metadata": {},
   "source": [
    "#### Creating a Matrix\n",
    "###### Matric are only 2d whereas array can be multidimensional,minimum dimension of martrix is 2\n",
    "###### matrix is a sub part of array"
   ]
  },
  {
   "cell_type": "code",
   "execution_count": 13,
   "id": "2b5bc71f-9a05-442b-81ea-41a32e229f2d",
   "metadata": {},
   "outputs": [],
   "source": [
    "mat=np.matrix(l)  "
   ]
  },
  {
   "cell_type": "markdown",
   "id": "77566266-c887-48cc-a6d8-ee78de346665",
   "metadata": {},
   "source": [
    "#### Deep Copy"
   ]
  },
  {
   "cell_type": "code",
   "execution_count": 14,
   "id": "e7089cdc-dafa-4035-b19c-defbc9c2d41b",
   "metadata": {},
   "outputs": [],
   "source": [
    "b=np.copy(arr)"
   ]
  },
  {
   "cell_type": "code",
   "execution_count": 15,
   "id": "3a913ab1-b8a8-43ae-bd7f-2f681d12f03f",
   "metadata": {},
   "outputs": [
    {
     "data": {
      "text/plain": [
       "array([1, 2, 3, 4, 5])"
      ]
     },
     "execution_count": 15,
     "metadata": {},
     "output_type": "execute_result"
    }
   ],
   "source": [
    "b"
   ]
  },
  {
   "cell_type": "markdown",
   "id": "a934577e-b130-4487-ac28-433f26adfefd",
   "metadata": {},
   "source": [
    "#### Creating matrix using a function"
   ]
  },
  {
   "cell_type": "code",
   "execution_count": 16,
   "id": "5ab5d5e3-50ce-405b-9a36-0c69b2b99a57",
   "metadata": {},
   "outputs": [],
   "source": [
    "a=np.fromfunction(lambda i,j:i==j,(3,3)) # 3*3 matrix"
   ]
  },
  {
   "cell_type": "code",
   "execution_count": 17,
   "id": "7cc2b072-5830-4878-8ab8-cf0143b8b0d5",
   "metadata": {},
   "outputs": [
    {
     "data": {
      "text/plain": [
       "array([[ True, False, False],\n",
       "       [False,  True, False],\n",
       "       [False, False,  True]])"
      ]
     },
     "execution_count": 17,
     "metadata": {},
     "output_type": "execute_result"
    }
   ],
   "source": [
    "a"
   ]
  },
  {
   "cell_type": "code",
   "execution_count": 18,
   "id": "5069ee9e-1c51-4666-8586-de44d00a7d35",
   "metadata": {},
   "outputs": [],
   "source": [
    "b=np.fromfunction(lambda i,j:i*j,(3,3))"
   ]
  },
  {
   "cell_type": "code",
   "execution_count": 19,
   "id": "b54579e7-1749-4a86-8e63-774b792ec5a0",
   "metadata": {},
   "outputs": [
    {
     "data": {
      "text/plain": [
       "array([[0., 0., 0.],\n",
       "       [0., 1., 2.],\n",
       "       [0., 2., 4.]])"
      ]
     },
     "execution_count": 19,
     "metadata": {},
     "output_type": "execute_result"
    }
   ],
   "source": [
    "b"
   ]
  },
  {
   "cell_type": "markdown",
   "id": "f1642595-176f-42f8-9a56-f9d00457133a",
   "metadata": {},
   "source": [
    "#### Creating An array from an iterable"
   ]
  },
  {
   "cell_type": "code",
   "execution_count": 20,
   "id": "fab677d1-094b-4ff9-883c-4f99f4b6d8e5",
   "metadata": {},
   "outputs": [
    {
     "data": {
      "text/plain": [
       "array([ 0,  1,  4,  9, 16])"
      ]
     },
     "execution_count": 20,
     "metadata": {},
     "output_type": "execute_result"
    }
   ],
   "source": [
    "iterable =(i*i for i in range(5))\n",
    "np.fromiter(iterable,int)"
   ]
  },
  {
   "cell_type": "markdown",
   "id": "7067c135-ca11-4ecd-b772-7bce4948cfe2",
   "metadata": {},
   "source": [
    "#### Creating array From String"
   ]
  },
  {
   "cell_type": "code",
   "execution_count": 21,
   "id": "5fe764c5-fc6b-4b76-9794-46383c6206f5",
   "metadata": {},
   "outputs": [
    {
     "data": {
      "text/plain": [
       "array([1., 2., 5., 6., 7.])"
      ]
     },
     "execution_count": 21,
     "metadata": {},
     "output_type": "execute_result"
    }
   ],
   "source": [
    "np.fromstring('1,2,5,6,7',sep=',')"
   ]
  },
  {
   "cell_type": "markdown",
   "id": "3b997944-53d1-4b7d-8fd5-c4a285f35510",
   "metadata": {},
   "source": [
    "#### Size Of  An Array"
   ]
  },
  {
   "cell_type": "code",
   "execution_count": 22,
   "id": "0414458d-e05e-427f-ba1a-6a38f986c712",
   "metadata": {},
   "outputs": [
    {
     "data": {
      "text/plain": [
       "5"
      ]
     },
     "execution_count": 22,
     "metadata": {},
     "output_type": "execute_result"
    }
   ],
   "source": [
    "arr.size "
   ]
  },
  {
   "cell_type": "code",
   "execution_count": 23,
   "id": "b351d875-9354-4377-8b88-f633d0f6e691",
   "metadata": {},
   "outputs": [
    {
     "data": {
      "text/plain": [
       "6"
      ]
     },
     "execution_count": 23,
     "metadata": {},
     "output_type": "execute_result"
    }
   ],
   "source": [
    "arr2.size"
   ]
  },
  {
   "cell_type": "markdown",
   "id": "f6692d8c-97ac-48b6-b3c3-6d79a8d42061",
   "metadata": {},
   "source": [
    "### Shape Of An Array"
   ]
  },
  {
   "cell_type": "code",
   "execution_count": 24,
   "id": "d5d08d37-d9d1-454c-b4f2-56106c9d0583",
   "metadata": {},
   "outputs": [
    {
     "data": {
      "text/plain": [
       "(2, 3)"
      ]
     },
     "execution_count": 24,
     "metadata": {},
     "output_type": "execute_result"
    }
   ],
   "source": [
    "arr2.shape #return (2,3) ie 2rows and 3 columns"
   ]
  },
  {
   "cell_type": "code",
   "execution_count": 25,
   "id": "5a4c45ff-f545-466f-a61a-34b6ab040283",
   "metadata": {},
   "outputs": [
    {
     "data": {
      "text/plain": [
       "(5,)"
      ]
     },
     "execution_count": 25,
     "metadata": {},
     "output_type": "execute_result"
    }
   ],
   "source": [
    "arr.shape"
   ]
  },
  {
   "cell_type": "markdown",
   "id": "02c528f1-a14d-4548-9a0e-3fed9e72233f",
   "metadata": {},
   "source": [
    "#### Creating array from arange which take float also\n"
   ]
  },
  {
   "cell_type": "code",
   "execution_count": null,
   "id": "e94c22eb-e6b9-4fd0-aad8-b4ac320a7f5c",
   "metadata": {},
   "outputs": [],
   "source": [
    "list(range(0,10))"
   ]
  },
  {
   "cell_type": "code",
   "execution_count": null,
   "id": "4a29717d-cc90-43a7-a2ec-8d2142154d8d",
   "metadata": {},
   "outputs": [],
   "source": [
    "list(range(0,3.4))    #Gives error"
   ]
  },
  {
   "cell_type": "code",
   "execution_count": null,
   "id": "e1ffc37a-b77c-4b04-86c8-a718bc5feeb0",
   "metadata": {},
   "outputs": [],
   "source": [
    "np.arange(1,5.7)"
   ]
  },
  {
   "cell_type": "markdown",
   "id": "f53badb5-603c-49a2-a341-ed643bc296b5",
   "metadata": {},
   "source": [
    "#### Creating aray upto the range and putting all decimal possible values"
   ]
  },
  {
   "cell_type": "code",
   "execution_count": 26,
   "id": "87c7b9ff-388b-4f58-ab79-7a5f1c4f8e0d",
   "metadata": {},
   "outputs": [
    {
     "data": {
      "text/plain": [
       "array([1.        , 1.12244898, 1.24489796, 1.36734694, 1.48979592,\n",
       "       1.6122449 , 1.73469388, 1.85714286, 1.97959184, 2.10204082,\n",
       "       2.2244898 , 2.34693878, 2.46938776, 2.59183673, 2.71428571,\n",
       "       2.83673469, 2.95918367, 3.08163265, 3.20408163, 3.32653061,\n",
       "       3.44897959, 3.57142857, 3.69387755, 3.81632653, 3.93877551,\n",
       "       4.06122449, 4.18367347, 4.30612245, 4.42857143, 4.55102041,\n",
       "       4.67346939, 4.79591837, 4.91836735, 5.04081633, 5.16326531,\n",
       "       5.28571429, 5.40816327, 5.53061224, 5.65306122, 5.7755102 ,\n",
       "       5.89795918, 6.02040816, 6.14285714, 6.26530612, 6.3877551 ,\n",
       "       6.51020408, 6.63265306, 6.75510204, 6.87755102, 7.        ])"
      ]
     },
     "execution_count": 26,
     "metadata": {},
     "output_type": "execute_result"
    }
   ],
   "source": [
    "np.linspace(1,7)"
   ]
  },
  {
   "cell_type": "code",
   "execution_count": 27,
   "id": "f15b4426-5df5-44ce-8534-112700fc9451",
   "metadata": {},
   "outputs": [
    {
     "data": {
      "text/plain": [
       "array([ 2.        ,  2.72158   ,  3.70349885,  5.0396842 ,  6.85795186,\n",
       "        9.33223232, 12.69920842, 17.28095582, 23.51575188, 32.        ])"
      ]
     },
     "execution_count": 27,
     "metadata": {},
     "output_type": "execute_result"
    }
   ],
   "source": [
    "np.logspace(1,5,10,base=2)"
   ]
  },
  {
   "cell_type": "markdown",
   "id": "2e2db305-b024-40e1-98d6-4ea0663b50de",
   "metadata": {},
   "source": [
    "#### Creating an array with zeroes"
   ]
  },
  {
   "cell_type": "code",
   "execution_count": 28,
   "id": "8ddb9bf1-9190-4b63-b2d7-18e0f24673f4",
   "metadata": {},
   "outputs": [
    {
     "data": {
      "text/plain": [
       "array([0., 0., 0., 0., 0.])"
      ]
     },
     "execution_count": 28,
     "metadata": {},
     "output_type": "execute_result"
    }
   ],
   "source": [
    "np.zeros(5)"
   ]
  },
  {
   "cell_type": "code",
   "execution_count": 29,
   "id": "739eddee-e069-4d4f-8312-090e867ea7f9",
   "metadata": {},
   "outputs": [
    {
     "data": {
      "text/plain": [
       "array([[0., 0.],\n",
       "       [0., 0.],\n",
       "       [0., 0.]])"
      ]
     },
     "execution_count": 29,
     "metadata": {},
     "output_type": "execute_result"
    }
   ],
   "source": [
    "np.zeros((3,2)) # 3  rows and 2 columns"
   ]
  },
  {
   "cell_type": "markdown",
   "id": "6e42df5a-85bf-48cc-81b1-9d21e0397d67",
   "metadata": {},
   "source": [
    "#### Creating an array with ones"
   ]
  },
  {
   "cell_type": "code",
   "execution_count": 30,
   "id": "81566cf2-85e4-4f94-b7bb-e779090adcb5",
   "metadata": {},
   "outputs": [],
   "source": [
    "a=np.ones(6)"
   ]
  },
  {
   "cell_type": "code",
   "execution_count": 31,
   "id": "e68dc979-505c-46dd-8fcd-c40faf74798d",
   "metadata": {},
   "outputs": [
    {
     "data": {
      "text/plain": [
       "array([7., 7., 7., 7., 7., 7.])"
      ]
     },
     "execution_count": 31,
     "metadata": {},
     "output_type": "execute_result"
    }
   ],
   "source": [
    "a+6 "
   ]
  },
  {
   "cell_type": "code",
   "execution_count": 32,
   "id": "a861106c-8e0a-492a-b49e-c1470f48d356",
   "metadata": {},
   "outputs": [
    {
     "data": {
      "text/plain": [
       "array([9., 9., 9., 9., 9., 9.])"
      ]
     },
     "execution_count": 32,
     "metadata": {},
     "output_type": "execute_result"
    }
   ],
   "source": [
    "a*9"
   ]
  },
  {
   "cell_type": "code",
   "execution_count": 33,
   "id": "f70939ee-c607-4ce7-8e1c-1bb0bb09e160",
   "metadata": {},
   "outputs": [
    {
     "data": {
      "text/plain": [
       "array([[1., 1., 1., 1., 1., 1.],\n",
       "       [1., 1., 1., 1., 1., 1.]])"
      ]
     },
     "execution_count": 33,
     "metadata": {},
     "output_type": "execute_result"
    }
   ],
   "source": [
    "np.ones((2,6))"
   ]
  },
  {
   "cell_type": "markdown",
   "id": "ad9ba886-00a3-4eff-99d2-e2a13d6450f9",
   "metadata": {},
   "source": [
    "#### Create A Diagonal Matrix"
   ]
  },
  {
   "cell_type": "code",
   "execution_count": 34,
   "id": "d61b63c0-4751-439a-a5aa-38346ac860d9",
   "metadata": {},
   "outputs": [],
   "source": [
    "z=np.eye(5)"
   ]
  },
  {
   "cell_type": "code",
   "execution_count": 35,
   "id": "a5b513a2-e26c-454f-af6b-f6bd84f775ae",
   "metadata": {},
   "outputs": [
    {
     "data": {
      "text/html": [
       "<div>\n",
       "<style scoped>\n",
       "    .dataframe tbody tr th:only-of-type {\n",
       "        vertical-align: middle;\n",
       "    }\n",
       "\n",
       "    .dataframe tbody tr th {\n",
       "        vertical-align: top;\n",
       "    }\n",
       "\n",
       "    .dataframe thead th {\n",
       "        text-align: right;\n",
       "    }\n",
       "</style>\n",
       "<table border=\"1\" class=\"dataframe\">\n",
       "  <thead>\n",
       "    <tr style=\"text-align: right;\">\n",
       "      <th></th>\n",
       "      <th>0</th>\n",
       "      <th>1</th>\n",
       "      <th>2</th>\n",
       "      <th>3</th>\n",
       "      <th>4</th>\n",
       "    </tr>\n",
       "  </thead>\n",
       "  <tbody>\n",
       "    <tr>\n",
       "      <th>0</th>\n",
       "      <td>1.0</td>\n",
       "      <td>0.0</td>\n",
       "      <td>0.0</td>\n",
       "      <td>0.0</td>\n",
       "      <td>0.0</td>\n",
       "    </tr>\n",
       "    <tr>\n",
       "      <th>1</th>\n",
       "      <td>0.0</td>\n",
       "      <td>1.0</td>\n",
       "      <td>0.0</td>\n",
       "      <td>0.0</td>\n",
       "      <td>0.0</td>\n",
       "    </tr>\n",
       "    <tr>\n",
       "      <th>2</th>\n",
       "      <td>0.0</td>\n",
       "      <td>0.0</td>\n",
       "      <td>1.0</td>\n",
       "      <td>0.0</td>\n",
       "      <td>0.0</td>\n",
       "    </tr>\n",
       "    <tr>\n",
       "      <th>3</th>\n",
       "      <td>0.0</td>\n",
       "      <td>0.0</td>\n",
       "      <td>0.0</td>\n",
       "      <td>1.0</td>\n",
       "      <td>0.0</td>\n",
       "    </tr>\n",
       "    <tr>\n",
       "      <th>4</th>\n",
       "      <td>0.0</td>\n",
       "      <td>0.0</td>\n",
       "      <td>0.0</td>\n",
       "      <td>0.0</td>\n",
       "      <td>1.0</td>\n",
       "    </tr>\n",
       "  </tbody>\n",
       "</table>\n",
       "</div>"
      ],
      "text/plain": [
       "     0    1    2    3    4\n",
       "0  1.0  0.0  0.0  0.0  0.0\n",
       "1  0.0  1.0  0.0  0.0  0.0\n",
       "2  0.0  0.0  1.0  0.0  0.0\n",
       "3  0.0  0.0  0.0  1.0  0.0\n",
       "4  0.0  0.0  0.0  0.0  1.0"
      ]
     },
     "execution_count": 35,
     "metadata": {},
     "output_type": "execute_result"
    }
   ],
   "source": [
    "pd.DataFrame(z)"
   ]
  },
  {
   "cell_type": "markdown",
   "id": "8f4ab914-9eb2-47c9-a046-95b85f8d8517",
   "metadata": {},
   "source": [
    "#### Generating Random data"
   ]
  },
  {
   "cell_type": "code",
   "execution_count": 36,
   "id": "b52f3391-1aad-4605-9a00-0fa7315e3268",
   "metadata": {},
   "outputs": [
    {
     "data": {
      "text/plain": [
       "array([[0.9525406 , 0.79655303, 0.40483308, 0.35251693, 0.12324777,\n",
       "        0.07327556],\n",
       "       [0.57560623, 0.49556164, 0.06001561, 0.49218201, 0.39446432,\n",
       "        0.14173294]])"
      ]
     },
     "execution_count": 36,
     "metadata": {},
     "output_type": "execute_result"
    }
   ],
   "source": [
    "np.random.rand(2,6)"
   ]
  },
  {
   "cell_type": "code",
   "execution_count": null,
   "id": "8fa558c6-b81c-4356-9062-1d93800ab251",
   "metadata": {},
   "outputs": [],
   "source": [
    "np.random.randn(2,6)"
   ]
  },
  {
   "cell_type": "code",
   "execution_count": null,
   "id": "190aa72a-eb01-4ba9-b0d1-d380c1a6a4f5",
   "metadata": {},
   "outputs": [],
   "source": [
    "np.random.randint(3,99)"
   ]
  },
  {
   "cell_type": "markdown",
   "id": "6d540cac-68e4-45ee-acd3-1d6b98961cc8",
   "metadata": {},
   "source": [
    "#### Creating Array Using Randomrandint"
   ]
  },
  {
   "cell_type": "code",
   "execution_count": null,
   "id": "88ce4c27-1aef-4694-b1e7-1e91abbb233e",
   "metadata": {},
   "outputs": [],
   "source": [
    "az=np.random.randint(1,15,(4,3))"
   ]
  },
  {
   "cell_type": "markdown",
   "id": "ee89fcb3-2423-4939-a11e-01a92f62beb7",
   "metadata": {},
   "source": [
    "#### Reshape The Array"
   ]
  },
  {
   "cell_type": "code",
   "execution_count": null,
   "id": "2ab47e24-4291-4364-8fe0-28543437ee35",
   "metadata": {},
   "outputs": [],
   "source": [
    "az.reshape(2,6)  #while reshaping make sure that elements should be equal=row*column"
   ]
  },
  {
   "cell_type": "code",
   "execution_count": null,
   "id": "6035e006-dffc-447f-9316-17ffcbea199b",
   "metadata": {},
   "outputs": [],
   "source": [
    "az[az>7]  #return those element >2"
   ]
  },
  {
   "cell_type": "code",
   "execution_count": null,
   "id": "ed5df140-5600-467d-8188-452557481c87",
   "metadata": {},
   "outputs": [],
   "source": [
    "az"
   ]
  },
  {
   "cell_type": "code",
   "execution_count": null,
   "id": "602b88e0-6be7-42d6-8de4-ea90a304a018",
   "metadata": {},
   "outputs": [],
   "source": [
    "az[0,[1,2]]  #returns 11,19 i.e from az row1 values at index 1,2"
   ]
  },
  {
   "cell_type": "code",
   "execution_count": null,
   "id": "1729038a-bdca-4248-bb30-26beead5be33",
   "metadata": {},
   "outputs": [],
   "source": [
    "az[1:3,[1,2]]"
   ]
  },
  {
   "cell_type": "markdown",
   "id": "03b756fb-b4a4-4432-a409-f050b50fdb4c",
   "metadata": {},
   "source": [
    "#### We can add/subtract/multiplication/division two arrray also"
   ]
  },
  {
   "cell_type": "code",
   "execution_count": null,
   "id": "7634cea1-e171-46a7-a216-681c8dd76f33",
   "metadata": {},
   "outputs": [],
   "source": [
    "a12=np.random.randint(1,5,(2,2))\n",
    "a13=np.random.randint(1,8,(2,2))"
   ]
  },
  {
   "cell_type": "code",
   "execution_count": null,
   "id": "14e436b4-fe5a-475f-a14d-167399302fd7",
   "metadata": {},
   "outputs": [],
   "source": [
    "a12"
   ]
  },
  {
   "cell_type": "code",
   "execution_count": null,
   "id": "54217a26-4295-4f39-86cf-12a10ea71be1",
   "metadata": {},
   "outputs": [],
   "source": [
    "a13"
   ]
  },
  {
   "cell_type": "code",
   "execution_count": null,
   "id": "972ce3c2-fe7c-4cde-a4dd-c4c044644734",
   "metadata": {},
   "outputs": [],
   "source": [
    "a12+a13"
   ]
  },
  {
   "cell_type": "code",
   "execution_count": null,
   "id": "2057b2e1-aad4-413c-855c-4bf82384e700",
   "metadata": {},
   "outputs": [],
   "source": [
    "a12-a13"
   ]
  },
  {
   "cell_type": "code",
   "execution_count": null,
   "id": "d116dbbf-e2dc-4b52-9257-fab84ea2b181",
   "metadata": {},
   "outputs": [],
   "source": [
    "a12*a13"
   ]
  },
  {
   "cell_type": "code",
   "execution_count": null,
   "id": "63d02cf0-a659-4d0e-b103-d028461e81ba",
   "metadata": {},
   "outputs": [],
   "source": [
    "a12/a13"
   ]
  },
  {
   "cell_type": "code",
   "execution_count": null,
   "id": "194cb266-0a2d-4c09-9a6f-3a921092bd2a",
   "metadata": {},
   "outputs": [],
   "source": [
    "a12/0 #returns infinity(inf)"
   ]
  },
  {
   "cell_type": "code",
   "execution_count": null,
   "id": "b6aca846-b83c-42dd-b6c6-f8387f1846cb",
   "metadata": {},
   "outputs": [],
   "source": [
    "#### Transpose Of A Matrix"
   ]
  },
  {
   "cell_type": "code",
   "execution_count": null,
   "id": "7093c8ee-ff38-4b86-a069-d49fffdc5a7f",
   "metadata": {},
   "outputs": [],
   "source": [
    "po=np.random.randint(1,6,(2,3))"
   ]
  },
  {
   "cell_type": "code",
   "execution_count": null,
   "id": "361ea8f0-c72e-4d0c-9e25-757fe5eb873f",
   "metadata": {},
   "outputs": [],
   "source": [
    "po"
   ]
  },
  {
   "cell_type": "code",
   "execution_count": null,
   "id": "62460db6-f464-4ccc-868c-e26e8a48836e",
   "metadata": {},
   "outputs": [],
   "source": [
    "po.T"
   ]
  },
  {
   "cell_type": "markdown",
   "id": "6f3d289f-068f-4eec-b366-f5d89506dbef",
   "metadata": {},
   "source": [
    "### Broadcasting"
   ]
  },
  {
   "cell_type": "code",
   "execution_count": null,
   "id": "440af21d-c960-4a21-a591-a44232e4ce4e",
   "metadata": {},
   "outputs": [],
   "source": [
    "array=np.zeros((2,3))"
   ]
  },
  {
   "cell_type": "code",
   "execution_count": null,
   "id": "2c89d8c1-489b-462a-ac96-c1d396a12c31",
   "metadata": {},
   "outputs": [],
   "source": [
    "array"
   ]
  },
  {
   "cell_type": "code",
   "execution_count": null,
   "id": "f902ee53-b5f7-4794-91f6-9e52b20fc182",
   "metadata": {},
   "outputs": [],
   "source": [
    "array+5"
   ]
  },
  {
   "cell_type": "code",
   "execution_count": null,
   "id": "6880d938-a606-41c2-94fc-89cf9b8deabb",
   "metadata": {},
   "outputs": [],
   "source": [
    "x=np.array([[1,2]]) #for row\n",
    "z=np.asarray([1,2,3]) #for collumns"
   ]
  },
  {
   "cell_type": "code",
   "execution_count": null,
   "id": "4a784298-133d-4233-b704-556ac004c0d4",
   "metadata": {},
   "outputs": [],
   "source": [
    "array+x.T #Row wise addition"
   ]
  },
  {
   "cell_type": "code",
   "execution_count": null,
   "id": "8136ca08-3590-44eb-b80c-7e5cfa09eb0f",
   "metadata": {},
   "outputs": [],
   "source": [
    "bv=array+z #Column wise addition"
   ]
  },
  {
   "cell_type": "code",
   "execution_count": null,
   "id": "c0cbe324-7ed3-4529-8644-9aab7a129c4c",
   "metadata": {},
   "outputs": [],
   "source": [
    "bv"
   ]
  },
  {
   "cell_type": "markdown",
   "id": "1f4a8a07-5455-43cc-98f9-307507314dce",
   "metadata": {},
   "source": [
    "### Array Manipulation"
   ]
  },
  {
   "cell_type": "code",
   "execution_count": null,
   "id": "58b4bc53-3fe4-4df2-91cb-0909547fccb8",
   "metadata": {},
   "outputs": [],
   "source": [
    "array2=np.random.randint(1,6,(3,4))"
   ]
  },
  {
   "cell_type": "code",
   "execution_count": null,
   "id": "b182b816-0da3-4f7d-9bdd-e7491676086a",
   "metadata": {},
   "outputs": [],
   "source": [
    "array2"
   ]
  },
  {
   "cell_type": "code",
   "execution_count": null,
   "id": "db86da15-b70b-4532-9ec9-2a721312de96",
   "metadata": {},
   "outputs": [],
   "source": [
    "array2.flatten()"
   ]
  },
  {
   "cell_type": "code",
   "execution_count": null,
   "id": "0cb91102-5a6c-4a4d-a88e-18828f5cc512",
   "metadata": {},
   "outputs": [],
   "source": [
    "np.expand_dims(array2,axis=1)  # From 2d array To 3d Array"
   ]
  },
  {
   "cell_type": "code",
   "execution_count": 196,
   "id": "e993ac17-9da5-49ac-9243-7ca2e94a44fe",
   "metadata": {},
   "outputs": [
    {
     "data": {
      "text/plain": [
       "array([3, 3, 4, 4, 5, 5, 5, 5, 2, 2, 3, 3, 5, 5, 3, 3, 5, 5, 1, 1, 4, 4,\n",
       "       3, 3])"
      ]
     },
     "execution_count": 196,
     "metadata": {},
     "output_type": "execute_result"
    }
   ],
   "source": [
    "np.repeat(array2,2)  #repeats the array elements"
   ]
  },
  {
   "cell_type": "markdown",
   "id": "e425119b-5374-4c67-8835-4de37913ff85",
   "metadata": {},
   "source": [
    "#### Creates Diagonal Array With the elemments"
   ]
  },
  {
   "cell_type": "code",
   "execution_count": 199,
   "id": "22c06ef9-8636-410b-9492-6ac1e5d2721c",
   "metadata": {},
   "outputs": [
    {
     "data": {
      "text/plain": [
       "array([[1, 0, 0],\n",
       "       [0, 3, 0],\n",
       "       [0, 0, 5]])"
      ]
     },
     "execution_count": 199,
     "metadata": {},
     "output_type": "execute_result"
    }
   ],
   "source": [
    "np.diag(np.array([1,3,5]))"
   ]
  },
  {
   "cell_type": "markdown",
   "id": "96a8e3bc-afaf-4cf6-bd81-804f53ff8cf5",
   "metadata": {},
   "source": [
    "### String Operation"
   ]
  },
  {
   "cell_type": "code",
   "execution_count": 205,
   "id": "a5b9e31c-0f8e-4ede-a24d-75162daf82a1",
   "metadata": {},
   "outputs": [],
   "source": [
    "st=np.asarray(['rishabh,hell'])"
   ]
  },
  {
   "cell_type": "code",
   "execution_count": 206,
   "id": "850a3067-8777-4e12-85fb-836b0f164faf",
   "metadata": {},
   "outputs": [
    {
     "data": {
      "text/plain": [
       "array(['rishabh,hell'], dtype='<U12')"
      ]
     },
     "execution_count": 206,
     "metadata": {},
     "output_type": "execute_result"
    }
   ],
   "source": [
    "st"
   ]
  },
  {
   "cell_type": "code",
   "execution_count": 207,
   "id": "1b95bccc-355a-4d2e-b444-3abb730e69e7",
   "metadata": {},
   "outputs": [
    {
     "data": {
      "text/plain": [
       "array(['RISHABH,HELL'], dtype='<U12')"
      ]
     },
     "execution_count": 207,
     "metadata": {},
     "output_type": "execute_result"
    }
   ],
   "source": [
    "np.char.upper(st)"
   ]
  },
  {
   "cell_type": "code",
   "execution_count": 208,
   "id": "d832b59c-6114-431f-9615-6c256a4d765d",
   "metadata": {},
   "outputs": [
    {
     "data": {
      "text/plain": [
       "array(['Rishabh,hell'], dtype='<U12')"
      ]
     },
     "execution_count": 208,
     "metadata": {},
     "output_type": "execute_result"
    }
   ],
   "source": [
    "np.char.capitalize(st)"
   ]
  },
  {
   "cell_type": "markdown",
   "id": "9d6dd9f0-4243-4323-85eb-388a2a34bc27",
   "metadata": {},
   "source": [
    "#### Mathematical Operation"
   ]
  },
  {
   "cell_type": "code",
   "execution_count": 39,
   "id": "9e1f734d-7e6d-42f0-a796-89900b872ac8",
   "metadata": {},
   "outputs": [],
   "source": [
    "m=np.random.randint(1,7,(3,4))"
   ]
  },
  {
   "cell_type": "code",
   "execution_count": 225,
   "id": "dd2a5d59-4724-49bb-9228-b4f05946633d",
   "metadata": {},
   "outputs": [
    {
     "data": {
      "text/plain": [
       "array([[-0.7568025 ,  0.14112001,  0.90929743,  0.84147098],\n",
       "       [ 0.84147098, -0.95892427, -0.95892427, -0.95892427],\n",
       "       [-0.95892427,  0.90929743,  0.14112001, -0.2794155 ]])"
      ]
     },
     "execution_count": 225,
     "metadata": {},
     "output_type": "execute_result"
    }
   ],
   "source": [
    "np.sin(m)"
   ]
  },
  {
   "cell_type": "code",
   "execution_count": 226,
   "id": "b1690b47-4d99-446c-b6c3-96dc112cb0bb",
   "metadata": {},
   "outputs": [
    {
     "data": {
      "text/plain": [
       "array([[-0.65364362, -0.9899925 , -0.41614684,  0.54030231],\n",
       "       [ 0.54030231,  0.28366219,  0.28366219,  0.28366219],\n",
       "       [ 0.28366219, -0.41614684, -0.9899925 ,  0.96017029]])"
      ]
     },
     "execution_count": 226,
     "metadata": {},
     "output_type": "execute_result"
    }
   ],
   "source": [
    "np.cos(m)"
   ]
  },
  {
   "cell_type": "code",
   "execution_count": 227,
   "id": "331323d7-9fb3-4b5e-bce1-891bb35fd247",
   "metadata": {},
   "outputs": [
    {
     "data": {
      "text/plain": [
       "array([[ 1.15782128, -0.14254654, -2.18503986,  1.55740772],\n",
       "       [ 1.55740772, -3.38051501, -3.38051501, -3.38051501],\n",
       "       [-3.38051501, -2.18503986, -0.14254654, -0.29100619]])"
      ]
     },
     "execution_count": 227,
     "metadata": {},
     "output_type": "execute_result"
    }
   ],
   "source": [
    "np.tan(m)"
   ]
  },
  {
   "cell_type": "code",
   "execution_count": 228,
   "id": "7a823498-e65a-44b3-8e5c-e14cf57eabd7",
   "metadata": {},
   "outputs": [
    {
     "data": {
      "text/plain": [
       "array([[0.60205999, 0.47712125, 0.30103   , 0.        ],\n",
       "       [0.        , 0.69897   , 0.69897   , 0.69897   ],\n",
       "       [0.69897   , 0.30103   , 0.47712125, 0.77815125]])"
      ]
     },
     "execution_count": 228,
     "metadata": {},
     "output_type": "execute_result"
    }
   ],
   "source": [
    "np.log10(m)"
   ]
  },
  {
   "cell_type": "code",
   "execution_count": 229,
   "id": "95008498-31c7-4ab7-b8c7-a14fc561d036",
   "metadata": {},
   "outputs": [
    {
     "data": {
      "text/plain": [
       "array([[ 54.59815003,  20.08553692,   7.3890561 ,   2.71828183],\n",
       "       [  2.71828183, 148.4131591 , 148.4131591 , 148.4131591 ],\n",
       "       [148.4131591 ,   7.3890561 ,  20.08553692, 403.42879349]])"
      ]
     },
     "execution_count": 229,
     "metadata": {},
     "output_type": "execute_result"
    }
   ],
   "source": [
    "np.exp(m)"
   ]
  },
  {
   "cell_type": "code",
   "execution_count": 230,
   "id": "98d8ef1b-1f9e-4000-94c9-e3e2e1e3b0e3",
   "metadata": {},
   "outputs": [
    {
     "data": {
      "text/plain": [
       "array([[2.        , 1.73205081, 1.41421356, 1.        ],\n",
       "       [1.        , 2.23606798, 2.23606798, 2.23606798],\n",
       "       [2.23606798, 1.41421356, 1.73205081, 2.44948974]])"
      ]
     },
     "execution_count": 230,
     "metadata": {},
     "output_type": "execute_result"
    }
   ],
   "source": [
    "np.sqrt(m)"
   ]
  },
  {
   "cell_type": "code",
   "execution_count": 231,
   "id": "b2829711-1fef-4f6b-bf3a-208d308a01a9",
   "metadata": {},
   "outputs": [
    {
     "data": {
      "text/plain": [
       "array([[16,  9,  4,  1],\n",
       "       [ 1, 25, 25, 25],\n",
       "       [25,  4,  9, 36]])"
      ]
     },
     "execution_count": 231,
     "metadata": {},
     "output_type": "execute_result"
    }
   ],
   "source": [
    "np.power(m,2)"
   ]
  },
  {
   "cell_type": "code",
   "execution_count": 232,
   "id": "dfeda470-b2ab-4c15-b72b-6671b4f6a015",
   "metadata": {},
   "outputs": [
    {
     "data": {
      "text/plain": [
       "3.5"
      ]
     },
     "execution_count": 232,
     "metadata": {},
     "output_type": "execute_result"
    }
   ],
   "source": [
    "np.mean(m)"
   ]
  },
  {
   "cell_type": "code",
   "execution_count": 233,
   "id": "6881bf90-a201-4b1f-af1e-419fa6f17129",
   "metadata": {},
   "outputs": [
    {
     "data": {
      "text/plain": [
       "6"
      ]
     },
     "execution_count": 233,
     "metadata": {},
     "output_type": "execute_result"
    }
   ],
   "source": [
    "np.max(m)"
   ]
  },
  {
   "cell_type": "code",
   "execution_count": 234,
   "id": "52dd2a2e-bd11-4a2a-8522-0056d906e36e",
   "metadata": {},
   "outputs": [
    {
     "data": {
      "text/plain": [
       "1"
      ]
     },
     "execution_count": 234,
     "metadata": {},
     "output_type": "execute_result"
    }
   ],
   "source": [
    "np.min(m)"
   ]
  },
  {
   "cell_type": "code",
   "execution_count": 235,
   "id": "8607de01-98e9-4e01-a521-bafd6adc1a00",
   "metadata": {},
   "outputs": [
    {
     "data": {
      "text/plain": [
       "2.75"
      ]
     },
     "execution_count": 235,
     "metadata": {},
     "output_type": "execute_result"
    }
   ],
   "source": [
    "np.var(m)"
   ]
  },
  {
   "cell_type": "code",
   "execution_count": 41,
   "id": "7182c645-3ccb-4fc5-9f45-1082b01252a9",
   "metadata": {},
   "outputs": [
    {
     "data": {
      "text/plain": [
       "array([[3, 2, 2, 3],\n",
       "       [1, 6, 6, 1],\n",
       "       [2, 5, 6, 5]])"
      ]
     },
     "execution_count": 41,
     "metadata": {},
     "output_type": "execute_result"
    }
   ],
   "source": [
    "m"
   ]
  },
  {
   "cell_type": "code",
   "execution_count": 43,
   "id": "d6933c45-1912-4120-8658-d29412de0ef9",
   "metadata": {},
   "outputs": [
    {
     "data": {
      "text/plain": [
       "array([[2, 2, 3, 3],\n",
       "       [1, 1, 6, 6],\n",
       "       [2, 5, 5, 6]])"
      ]
     },
     "execution_count": 43,
     "metadata": {},
     "output_type": "execute_result"
    }
   ],
   "source": [
    "np.sort(m)"
   ]
  },
  {
   "cell_type": "code",
   "execution_count": 65,
   "id": "0d5f5b1c-b07f-48f4-988a-0ea4b56c1f17",
   "metadata": {},
   "outputs": [],
   "source": [
    "array7=np.array([1,2,5,7,1,9])"
   ]
  },
  {
   "cell_type": "code",
   "execution_count": 66,
   "id": "468d3af2-8d4b-4c18-93c1-ec03cce30562",
   "metadata": {},
   "outputs": [
    {
     "data": {
      "text/plain": [
       "array([1, 2, 5, 7, 1, 9])"
      ]
     },
     "execution_count": 66,
     "metadata": {},
     "output_type": "execute_result"
    }
   ],
   "source": [
    "array7"
   ]
  },
  {
   "cell_type": "code",
   "execution_count": 67,
   "id": "92d38eb5-0b3d-46ff-95b5-6fbad8e16fe2",
   "metadata": {},
   "outputs": [
    {
     "data": {
      "text/plain": [
       "array([1, 1, 2, 5, 7, 9])"
      ]
     },
     "execution_count": 67,
     "metadata": {},
     "output_type": "execute_result"
    }
   ],
   "source": [
    "np.sort(array7)"
   ]
  },
  {
   "cell_type": "markdown",
   "id": "3f027a47-89bb-4ba6-85c0-0fa18604a153",
   "metadata": {},
   "source": [
    "#### Returns the index where the item need to be placed"
   ]
  },
  {
   "cell_type": "code",
   "execution_count": 70,
   "id": "1200c2ff-f5c8-4815-a888-2d04bfe1e346",
   "metadata": {},
   "outputs": [
    {
     "data": {
      "text/plain": [
       "6"
      ]
     },
     "execution_count": 70,
     "metadata": {},
     "output_type": "execute_result"
    }
   ],
   "source": [
    "np.searchsorted(array7,10)"
   ]
  },
  {
   "cell_type": "markdown",
   "id": "56e282e2-d9fd-403e-96fb-d8e305f030f7",
   "metadata": {},
   "source": [
    "#### Counts Non zero element"
   ]
  },
  {
   "cell_type": "code",
   "execution_count": 73,
   "id": "1f317c31-4289-4f6c-beb1-daaec63f8da9",
   "metadata": {},
   "outputs": [
    {
     "data": {
      "text/plain": [
       "6"
      ]
     },
     "execution_count": 73,
     "metadata": {},
     "output_type": "execute_result"
    }
   ],
   "source": [
    "np.count_nonzero(array7)"
   ]
  },
  {
   "cell_type": "markdown",
   "id": "5f9652d9-3be8-4475-b2b1-aa52ce461932",
   "metadata": {},
   "source": [
    "#### Returns the index where the element is greater than inserted element"
   ]
  },
  {
   "cell_type": "code",
   "execution_count": 77,
   "id": "c5b71637-5f6b-4cf8-b812-49d2008ab258",
   "metadata": {},
   "outputs": [
    {
     "data": {
      "text/plain": [
       "(array([5]),)"
      ]
     },
     "execution_count": 77,
     "metadata": {},
     "output_type": "execute_result"
    }
   ],
   "source": [
    "np.where(array7>8)"
   ]
  },
  {
   "cell_type": "markdown",
   "id": "0d442a26-9286-4b62-9da1-973b6d735b31",
   "metadata": {},
   "source": [
    "#### Extracts The data greater than 3 "
   ]
  },
  {
   "cell_type": "code",
   "execution_count": 79,
   "id": "bfa3570e-4416-464a-90bd-a2b321341d2a",
   "metadata": {},
   "outputs": [
    {
     "data": {
      "text/plain": [
       "array([5, 7, 9])"
      ]
     },
     "execution_count": 79,
     "metadata": {},
     "output_type": "execute_result"
    }
   ],
   "source": [
    "np.extract(array7>3,array7)"
   ]
  },
  {
   "cell_type": "markdown",
   "id": "305ba825-0291-4455-a60d-1296f8da2bab",
   "metadata": {},
   "source": [
    "#### Byte Swappping"
   ]
  },
  {
   "cell_type": "code",
   "execution_count": 82,
   "id": "2a078b5e-1d5f-467b-a337-f49d31c13185",
   "metadata": {},
   "outputs": [
    {
     "data": {
      "text/plain": [
       "array([ 72057594037927936, 144115188075855872, 360287970189639680,\n",
       "       504403158265495552,  72057594037927936, 648518346341351424])"
      ]
     },
     "execution_count": 82,
     "metadata": {},
     "output_type": "execute_result"
    }
   ],
   "source": [
    "array7.byteswap()  #swaps the data with their byte in memory"
   ]
  },
  {
   "cell_type": "code",
   "execution_count": null,
   "id": "8b6e65dd-b144-479b-9d6b-e9266da32b54",
   "metadata": {},
   "outputs": [],
   "source": [
    "\n"
   ]
  },
  {
   "cell_type": "markdown",
   "id": "2e724bd1-f7ff-4e19-b9d3-49f8e2e0963a",
   "metadata": {},
   "source": [
    "### View "
   ]
  },
  {
   "cell_type": "code",
   "execution_count": 88,
   "id": "b123ed34-5eb6-4f1a-a02f-31b76b5af327",
   "metadata": {},
   "outputs": [],
   "source": [
    "b=array7.view()  #view is like shallow copy only"
   ]
  },
  {
   "cell_type": "code",
   "execution_count": 89,
   "id": "eb6de97a-3b87-42bf-8a7a-d8b579343dcd",
   "metadata": {},
   "outputs": [],
   "source": [
    "b[0]=9"
   ]
  },
  {
   "cell_type": "code",
   "execution_count": 90,
   "id": "94314ced-579a-47ab-b149-6b1a9fe3e518",
   "metadata": {},
   "outputs": [
    {
     "data": {
      "text/plain": [
       "array([9, 2, 5, 7, 1, 9])"
      ]
     },
     "execution_count": 90,
     "metadata": {},
     "output_type": "execute_result"
    }
   ],
   "source": [
    "b"
   ]
  },
  {
   "cell_type": "code",
   "execution_count": 91,
   "id": "254ef2a5-f3fa-4524-8579-1f65a0e8ac24",
   "metadata": {},
   "outputs": [
    {
     "data": {
      "text/plain": [
       "array([9, 2, 5, 7, 1, 9])"
      ]
     },
     "execution_count": 91,
     "metadata": {},
     "output_type": "execute_result"
    }
   ],
   "source": [
    "array7"
   ]
  },
  {
   "cell_type": "markdown",
   "id": "ecce46a3-8427-47e2-85ef-36f95cb6c83a",
   "metadata": {},
   "source": [
    "### Matrix library"
   ]
  },
  {
   "cell_type": "code",
   "execution_count": 98,
   "id": "b9fcff16-0e12-4f43-a916-cc0aca09d284",
   "metadata": {},
   "outputs": [],
   "source": [
    "import numpy.matlib as nm"
   ]
  },
  {
   "cell_type": "code",
   "execution_count": 94,
   "id": "b09127e4-c7f2-46fc-8eed-cdf01c7da01f",
   "metadata": {},
   "outputs": [
    {
     "data": {
      "text/plain": [
       "matrix([[0., 0., 0., 0., 0.]])"
      ]
     },
     "execution_count": 94,
     "metadata": {},
     "output_type": "execute_result"
    }
   ],
   "source": [
    "nm.zeros(5)"
   ]
  },
  {
   "cell_type": "code",
   "execution_count": 96,
   "id": "b61fd75a-7659-4222-9337-8ac6e4b91fa5",
   "metadata": {},
   "outputs": [
    {
     "data": {
      "text/plain": [
       "matrix([[1., 1., 1., 1., 1.],\n",
       "        [1., 1., 1., 1., 1.],\n",
       "        [1., 1., 1., 1., 1.]])"
      ]
     },
     "execution_count": 96,
     "metadata": {},
     "output_type": "execute_result"
    }
   ],
   "source": [
    "nm.ones((3,5))"
   ]
  },
  {
   "cell_type": "code",
   "execution_count": 97,
   "id": "652df6b3-a7b5-4b7c-8568-0f1873b93abd",
   "metadata": {},
   "outputs": [
    {
     "data": {
      "text/plain": [
       "array([[1., 0., 0., 0., 0.],\n",
       "       [0., 1., 0., 0., 0.],\n",
       "       [0., 0., 1., 0., 0.],\n",
       "       [0., 0., 0., 1., 0.],\n",
       "       [0., 0., 0., 0., 1.]])"
      ]
     },
     "execution_count": 97,
     "metadata": {},
     "output_type": "execute_result"
    }
   ],
   "source": [
    "np.eye(5)"
   ]
  },
  {
   "cell_type": "markdown",
   "id": "7c9816bb-9efa-401f-b1b4-21087ddeaacc",
   "metadata": {},
   "source": [
    "### Numpy -Linear Algebra"
   ]
  },
  {
   "cell_type": "code",
   "execution_count": 101,
   "id": "2ad42674-7d2e-486f-b7a7-dffd87f84216",
   "metadata": {},
   "outputs": [],
   "source": [
    "array8=np.random.randint(1,8,(4,5))"
   ]
  },
  {
   "cell_type": "code",
   "execution_count": 107,
   "id": "b30888c2-98e1-4ba1-9797-665333dfebe9",
   "metadata": {},
   "outputs": [],
   "source": [
    "array10=np.random.randint(1,9,(5,4))"
   ]
  },
  {
   "cell_type": "code",
   "execution_count": 108,
   "id": "0ca826bc-204c-452a-89be-9cb1c80d3519",
   "metadata": {},
   "outputs": [
    {
     "data": {
      "text/plain": [
       "array([[4, 7, 3, 5, 2],\n",
       "       [5, 1, 4, 4, 2],\n",
       "       [4, 7, 1, 4, 3],\n",
       "       [6, 4, 4, 3, 6]])"
      ]
     },
     "execution_count": 108,
     "metadata": {},
     "output_type": "execute_result"
    }
   ],
   "source": [
    "array8"
   ]
  },
  {
   "cell_type": "raw",
   "id": "7a613537-db6a-4251-972c-482626cef0e9",
   "metadata": {},
   "source": [
    "array10"
   ]
  },
  {
   "cell_type": "code",
   "execution_count": 110,
   "id": "53fa1636-630a-4511-9530-ddfe7d6c03a8",
   "metadata": {},
   "outputs": [
    {
     "data": {
      "text/plain": [
       "array([[ 73,  97,  96, 137],\n",
       "       [ 48,  47,  65,  98],\n",
       "       [ 68,  98,  94, 125],\n",
       "       [ 70,  96, 102, 134]])"
      ]
     },
     "execution_count": 110,
     "metadata": {},
     "output_type": "execute_result"
    }
   ],
   "source": [
    "np.dot(array8,array10)"
   ]
  },
  {
   "cell_type": "code",
   "execution_count": 111,
   "id": "a9cac9c0-b6dd-4a83-bc93-89d0ec8f03ee",
   "metadata": {},
   "outputs": [
    {
     "data": {
      "text/plain": [
       "array([[ 73,  97,  96, 137],\n",
       "       [ 48,  47,  65,  98],\n",
       "       [ 68,  98,  94, 125],\n",
       "       [ 70,  96, 102, 134]])"
      ]
     },
     "execution_count": 111,
     "metadata": {},
     "output_type": "execute_result"
    }
   ],
   "source": [
    "array8@array10"
   ]
  },
  {
   "cell_type": "code",
   "execution_count": null,
   "id": "8097ec92-c566-41ca-a5f1-5e33daf71ba3",
   "metadata": {},
   "outputs": [],
   "source": []
  }
 ],
 "metadata": {
  "kernelspec": {
   "display_name": "Python 3 (ipykernel)",
   "language": "python",
   "name": "python3"
  },
  "language_info": {
   "codemirror_mode": {
    "name": "ipython",
    "version": 3
   },
   "file_extension": ".py",
   "mimetype": "text/x-python",
   "name": "python",
   "nbconvert_exporter": "python",
   "pygments_lexer": "ipython3",
   "version": "3.10.8"
  }
 },
 "nbformat": 4,
 "nbformat_minor": 5
}
